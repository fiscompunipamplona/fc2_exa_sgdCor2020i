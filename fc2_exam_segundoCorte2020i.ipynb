{
 "cells": [
  {
   "cell_type": "markdown",
   "metadata": {},
   "source": [
    "# Exámen Física computacional II (2020-I), segundo corte"
   ]
  },
  {
   "cell_type": "markdown",
   "metadata": {},
   "source": [
    "## Primera parte: Distribución de posiciones con $\\sigma$ de $3.0\\times10^{-10}$m"
   ]
  },
  {
   "cell_type": "markdown",
   "metadata": {},
   "source": [
    "Ubique cuatro atómos de Oro ($Z=79$) en los vértices de un cuadrado de lado tres Angstrom ($3\\times10^{-10}$ m). Distribuya $10^8$ partículas $\\alpha$ siguiendo una distribución normal con media de $0.0$ m y $\\sigma=6\\times10^{-10}$ m; ubicando el origen de coordenadas en el centro del cuadrado. Para cada $\\alpha$ asigne un valor de energía que siga una distribución de normal con media de $3.5$ MeV.\n",
    "\n",
    "Cuente y grafique el número de $\\alpha$ que rebotan debido a esta distribución de átomos, para una:\n",
    "\n",
    "- distribución de energía con $\\sigma$ de $5.0$ MeV\n",
    "- distribución de energía con $\\sigma$ de $0.5$ MeV"
   ]
  },
  {
   "cell_type": "markdown",
   "metadata": {},
   "source": [
    "## Segunda parte: Distribución de posiciones con 𝜎 de $6.0\\times10^{-10}$m\n"
   ]
  },
  {
   "cell_type": "markdown",
   "metadata": {},
   "source": [
    "Repita la primera parte pero usando un $\\sigma$ de $6.0\\times10^{-10}$ m para la distribución de posiciones de las $10^8$ partículas $\\alpha$"
   ]
  }
 ],
 "metadata": {
  "kernelspec": {
   "display_name": "Python 3",
   "language": "python",
   "name": "python3"
  },
  "language_info": {
   "codemirror_mode": {
    "name": "ipython",
    "version": 3
   },
   "file_extension": ".py",
   "mimetype": "text/x-python",
   "name": "python",
   "nbconvert_exporter": "python",
   "pygments_lexer": "ipython3",
   "version": "3.5.2"
  }
 },
 "nbformat": 4,
 "nbformat_minor": 2
}
