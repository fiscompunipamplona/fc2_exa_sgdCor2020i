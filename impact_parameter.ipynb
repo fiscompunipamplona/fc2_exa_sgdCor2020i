{
 "cells": [
  {
   "cell_type": "code",
   "execution_count": 1,
   "metadata": {},
   "outputs": [],
   "source": [
    "from math import sqrt, log, cos, sin, pi\n",
    "from numpy import random as rd\n",
    "from pylab import plot, show, xlim, ylim"
   ]
  },
  {
   "cell_type": "code",
   "execution_count": 2,
   "metadata": {},
   "outputs": [],
   "source": [
    "Z = 79\n",
    "e = 1.602e-19\n",
    "E = 7.7e6 * e # 7.7 MeV\n",
    "epsilon0 = 8.854e-12\n",
    "a0 = 5.292e-11\n",
    "sigma = a0/100\n",
    "N = 1000000"
   ]
  },
  {
   "cell_type": "markdown",
   "metadata": {},
   "source": [
    "# Ejemplo 10.2 del libro"
   ]
  },
  {
   "cell_type": "code",
   "execution_count": 3,
   "metadata": {},
   "outputs": [],
   "source": [
    "def gaussian():\n",
    "    r = sqrt(-2*sigma*sigma*log(1-rd.random()))\n",
    "    theta = 2*pi*rd.random()\n",
    "    x = r*cos(theta)\n",
    "    y = r*sin(theta)\n",
    "    return x, y"
   ]
  },
  {
   "cell_type": "code",
   "execution_count": 4,
   "metadata": {},
   "outputs": [],
   "source": [
    "count = 0\n",
    "\n",
    "b_crit = Z*e*e/(2*pi*epsilon0*E)\n",
    "\n",
    "xp = []\n",
    "yp = []\n",
    "\n",
    "xout = []\n",
    "yout = []\n",
    "\n",
    "for i in range(N):\n",
    "    x, y = gaussian()\n",
    "    b = sqrt(x*x + y*y)\n",
    "    if b < b_crit:\n",
    "        count += 1\n",
    "        xp.append( x )\n",
    "        yp.append( y )\n",
    "    else:\n",
    "        xout.append( x )\n",
    "        yout.append( y )"
   ]
  },
  {
   "cell_type": "code",
   "execution_count": 5,
   "metadata": {},
   "outputs": [
    {
     "name": "stdout",
     "output_type": "stream",
     "text": [
      "1547 Particles deflected of 1000000\n"
     ]
    },
    {
     "data": {
      "image/png": "[encoded data removed]",
      "text/plain": [
       "<Figure size 432x288 with 1 Axes>"
      ]
     },
     "metadata": {
      "needs_background": "light"
     },
     "output_type": "display_data"
    }
   ],
   "source": [
    "print(count, \"Particles deflected of\", N)\n",
    "\n",
    "plot(xout, yout, 'ro')\n",
    "#plot(xp, yp, 'o')\n",
    "xlim(-.25e-12,.25e-12)\n",
    "ylim(-.25e-12,.25e-12)\n",
    "show()"
   ]
  },
  {
   "cell_type": "markdown",
   "metadata": {},
   "source": [
    "# Ejemplo 10.2 Usando la librería normal"
   ]
  },
  {
   "cell_type": "code",
   "execution_count": 6,
   "metadata": {},
   "outputs": [],
   "source": [
    "mu = 0\n",
    "\n",
    "count = 0\n",
    "xp = []\n",
    "yp = []\n",
    "\n",
    "xout = []\n",
    "yout = []\n",
    "\n",
    "x = rd.normal(mu, sigma, N)\n",
    "y = rd.normal(mu, sigma, N)\n",
    "\n",
    "b_crit = Z*e*e/(2*pi*epsilon0*E)\n",
    "\n",
    "for i in range(N):\n",
    "    b = sqrt(x[i]*x[i] + y[i]*y[i])\n",
    "    if b < b_crit:\n",
    "        count += 1\n",
    "        xp.append( x[i] )\n",
    "        yp.append( y[i] )\n",
    "    else:\n",
    "        xout.append( x[i] )\n",
    "        yout.append( y[i] )"
   ]
  },
  {
   "cell_type": "code",
   "execution_count": 7,
   "metadata": {},
   "outputs": [
    {
     "name": "stdout",
     "output_type": "stream",
     "text": [
      "1582 Particles deflected of 1000000\n"
     ]
    },
    {
     "data": {
      "image/png": "[encoded data removed]",
      "text/plain": [
       "<Figure size 432x288 with 1 Axes>"
      ]
     },
     "metadata": {
      "needs_background": "light"
     },
     "output_type": "display_data"
    }
   ],
   "source": [
    "print(count, \"Particles deflected of\", N)\n",
    "\n",
    "plot(xout, yout, 'ro')\n",
    "plot(xp, yp, 'o')\n",
    "\n",
    "xlim(-.25e-12,.25e-12)\n",
    "ylim(-.25e-12,.25e-12)\n",
    "show()"
   ]
  },
  {
   "cell_type": "markdown",
   "metadata": {},
   "source": [
    "# Ejemplo 10.2 usando una distribución normal para la energía"
   ]
  },
  {
   "cell_type": "code",
   "execution_count": 8,
   "metadata": {},
   "outputs": [],
   "source": [
    "mu = 0\n",
    "\n",
    "mue = 7.7\n",
    "sigmae = .5\n",
    "\n",
    "E = rd.normal(mue, sigmae, N)\n",
    "E = E * 1e6 * e\n",
    "\n",
    "x = rd.normal(mu, sigma, N)\n",
    "y = rd.normal(mu, sigma, N)\n",
    "\n",
    "count = 0\n",
    "\n",
    "xp = []\n",
    "yp = []\n",
    "\n",
    "xout = []\n",
    "yout = []\n",
    "\n",
    "for i in range(N):   \n",
    "    b = sqrt(x[i]*x[i] + y[i]*y[i])\n",
    "    if b < Z*e*e/(2*pi*epsilon0*E[i]):\n",
    "        count += 1\n",
    "        xp.append( x[i] )\n",
    "        yp.append( y[i] )\n",
    "    else:\n",
    "        xout.append( x[i] )\n",
    "        yout.append( y[i] )"
   ]
  },
  {
   "cell_type": "code",
   "execution_count": 9,
   "metadata": {},
   "outputs": [
    {
     "name": "stdout",
     "output_type": "stream",
     "text": [
      "1561 Particles deflected of 1000000\n"
     ]
    },
    {
     "data": {
      "image/png": "[encoded data removed]",
      "text/plain": [
       "<Figure size 432x288 with 1 Axes>"
      ]
     },
     "metadata": {
      "needs_background": "light"
     },
     "output_type": "display_data"
    }
   ],
   "source": [
    "print(count, \"Particles deflected of\", N)\n",
    "\n",
    "plot(xout, yout, 'ro')\n",
    "plot(xp, yp, 'o')\n",
    "\n",
    "xlim(-1e-12,1e-12)\n",
    "ylim(-1e-12,1e-12)\n",
    "show()"
   ]
  }
 ],
 "metadata": {
  "kernelspec": {
   "display_name": "Python 3",
   "language": "python",
   "name": "python3"
  },
  "language_info": {
   "codemirror_mode": {
    "name": "ipython",
    "version": 3
   },
   "file_extension": ".py",
   "mimetype": "text/x-python",
   "name": "python",
   "nbconvert_exporter": "python",
   "pygments_lexer": "ipython3",
   "version": "3.5.2"
  }
 },
 "nbformat": 4,
 "nbformat_minor": 2
}
